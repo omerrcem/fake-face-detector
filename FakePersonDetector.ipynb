{
  "nbformat": 4,
  "nbformat_minor": 0,
  "metadata": {
    "colab": {
      "name": "FakePersonDetector",
      "provenance": [],
      "collapsed_sections": [],
      "toc_visible": true
    },
    "kernelspec": {
      "name": "python3",
      "display_name": "Python 3"
    },
    "accelerator": "GPU"
  },
  "cells": [
    {
      "cell_type": "markdown",
      "metadata": {
        "id": "fjrNlHaGkDJy",
        "colab_type": "text"
      },
      "source": [
        "#Fake Person Detector\n",
        "\n",
        "**Summary**\n",
        "\n",
        "In this model it's aimed to create a network that can analyse and determine wheter given input is a real human picture or a computer generated fake human picture.\n",
        "\n",
        "To achieve that a CNN model with various layers is being used.\n",
        "\n",
        "\n",
        "\n",
        "\n",
        "Author:\n",
        "\n",
        "Ömer Cem Turan\n",
        "\n",
        "omercemturan@gmail.com\n",
        "\n",
        "160503133\n"
      ]
    },
    {
      "cell_type": "markdown",
      "metadata": {
        "id": "gHO8UgWokX8X",
        "colab_type": "text"
      },
      "source": [
        "#Importing libraries\n",
        "\n",
        "Keras and Tensorflow is being used in this project.\n",
        "\n",
        "And also GPU acceleration of Google Colab will help to model to process the given data faster."
      ]
    },
    {
      "cell_type": "code",
      "metadata": {
        "id": "LOigmnp6tEOF",
        "colab_type": "code",
        "colab": {
          "base_uri": "https://localhost:8080/",
          "height": 34
        },
        "outputId": "81aa0d78-f35c-4686-de2e-c1cf1a6f6248"
      },
      "source": [
        "\n",
        "import numpy as np # linear algebra\n",
        "import pandas as pd # data processing, CSV file I/O (e.g. pd.read_csv)\n",
        "\n",
        "from keras.models import Sequential\n",
        "from keras.layers import Dense,Flatten, GlobalAveragePooling2D, BatchNormalization, Activation, Dropout, Conv2D,MaxPooling2D\n",
        "from keras.optimizers import Adam\n",
        "from keras import optimizers\n",
        "import tensorflow as tf\n",
        "from keras import backend as K\n",
        "from tensorflow.python.client import device_lib\n",
        "from PIL import Image\n",
        "from keras.utils.vis_utils import plot_model\n",
        "from keras.callbacks import ModelCheckpoint\n",
        "import matplotlib.pyplot as plt\n",
        "\n",
        "from keras.models import Model\n",
        "from keras.applications import ResNet50\n",
        "from keras.applications import VGG16\n",
        "\n",
        "\n",
        "\n",
        "# Input data files are available in the \"../input/\" directory.\n",
        "# For example, running this (by clicking run or pressing Shift+Enter) will list the files in the input directory\n"
      ],
      "execution_count": 1,
      "outputs": [
        {
          "output_type": "stream",
          "text": [
            "Using TensorFlow backend.\n"
          ],
          "name": "stderr"
        }
      ]
    },
    {
      "cell_type": "code",
      "metadata": {
        "id": "e3ZjUX2CteLh",
        "colab_type": "code",
        "colab": {}
      },
      "source": [
        "import os\n"
      ],
      "execution_count": 2,
      "outputs": []
    },
    {
      "cell_type": "code",
      "metadata": {
        "id": "LDLRM3g9Fg9X",
        "colab_type": "code",
        "colab": {
          "base_uri": "https://localhost:8080/",
          "height": 496
        },
        "outputId": "56b4f065-2f29-404f-e84c-61a0755f2cb5"
      },
      "source": [
        "device_lib.list_local_devices()"
      ],
      "execution_count": 3,
      "outputs": [
        {
          "output_type": "execute_result",
          "data": {
            "text/plain": [
              "[name: \"/device:CPU:0\"\n",
              " device_type: \"CPU\"\n",
              " memory_limit: 268435456\n",
              " locality {\n",
              " }\n",
              " incarnation: 17368552875263630851, name: \"/device:XLA_CPU:0\"\n",
              " device_type: \"XLA_CPU\"\n",
              " memory_limit: 17179869184\n",
              " locality {\n",
              " }\n",
              " incarnation: 2717235186281150681\n",
              " physical_device_desc: \"device: XLA_CPU device\", name: \"/device:XLA_GPU:0\"\n",
              " device_type: \"XLA_GPU\"\n",
              " memory_limit: 17179869184\n",
              " locality {\n",
              " }\n",
              " incarnation: 8072448826366949464\n",
              " physical_device_desc: \"device: XLA_GPU device\", name: \"/device:GPU:0\"\n",
              " device_type: \"GPU\"\n",
              " memory_limit: 7304675328\n",
              " locality {\n",
              "   bus_id: 1\n",
              "   links {\n",
              "   }\n",
              " }\n",
              " incarnation: 16089980457156351291\n",
              " physical_device_desc: \"device: 0, name: Tesla P4, pci bus id: 0000:00:04.0, compute capability: 6.1\"]"
            ]
          },
          "metadata": {
            "tags": []
          },
          "execution_count": 3
        }
      ]
    },
    {
      "cell_type": "markdown",
      "metadata": {
        "id": "Sgd9VQxjkCOR",
        "colab_type": "text"
      },
      "source": [
        "#Importing Data\n",
        "\n",
        "Check wheter google drive is connected or not. If 'training_set' and \n",
        "'test_set' are shown, data is ready to be processed"
      ]
    },
    {
      "cell_type": "code",
      "metadata": {
        "id": "NabnwSz_Q_iY",
        "colab_type": "code",
        "colab": {}
      },
      "source": [
        "import zipfile\n",
        "from google.colab import drive\n",
        "\n",
        "\n",
        "zip_ref = zipfile.ZipFile(\"/content/drive/My Drive/DeepLearning/data/project_data.zip\", 'r')\n",
        "zip_ref.extractall(\"/content/tmp/\")\n",
        "zip_ref.close()"
      ],
      "execution_count": 4,
      "outputs": []
    },
    {
      "cell_type": "code",
      "metadata": {
        "id": "ncxbEL3gttmd",
        "colab_type": "code",
        "colab": {
          "base_uri": "https://localhost:8080/",
          "height": 34
        },
        "outputId": "a551cae5-d9a4-4196-9bd6-24ac5487dc68"
      },
      "source": [
        "print(os.listdir(\"/content/tmp/project_data\"))\n"
      ],
      "execution_count": 5,
      "outputs": [
        {
          "output_type": "stream",
          "text": [
            "['.DS_Store', 'test_set', 'training_set']\n"
          ],
          "name": "stdout"
        }
      ]
    },
    {
      "cell_type": "markdown",
      "metadata": {
        "id": "vGdmK7FWk6O1",
        "colab_type": "text"
      },
      "source": [
        "#Preparing Input Data\n",
        "\n",
        "Input data consist of PNG pictures with the resolution of 128x128"
      ]
    },
    {
      "cell_type": "code",
      "metadata": {
        "id": "UOPgWymotvOW",
        "colab_type": "code",
        "colab": {}
      },
      "source": [
        "from keras.preprocessing.image import ImageDataGenerator\n",
        "\n",
        "train_datagen = ImageDataGenerator(rescale=1./255,\n",
        "                                   validation_split=0.1)\n",
        "\n",
        "test_datagen = ImageDataGenerator(rescale = 1./255)\n"
      ],
      "execution_count": 6,
      "outputs": []
    },
    {
      "cell_type": "markdown",
      "metadata": {
        "id": "h_mkKgZrlDdm",
        "colab_type": "text"
      },
      "source": [
        "#Setting Input Path and Data Properties\n",
        "\n",
        "Resolution is 128x128 for each image\n",
        "\n",
        "Setting batch size to 64\n",
        "\n",
        "This network is going to give output data in binary"
      ]
    },
    {
      "cell_type": "code",
      "metadata": {
        "id": "Jq6iJN9plAPR",
        "colab_type": "code",
        "colab": {
          "base_uri": "https://localhost:8080/",
          "height": 70
        },
        "outputId": "d86f54b1-fdd8-4115-fe9f-1a7a2b442f7d"
      },
      "source": [
        "training_set = train_datagen.flow_from_directory('/content/tmp/project_data/training_set',\n",
        "                                                 target_size = (128, 128),\n",
        "                                                 batch_size = 64,\n",
        "                                                 class_mode = 'binary',\n",
        "                                                 subset='training')\n",
        "\n",
        "\n",
        "validation_set = train_datagen.flow_from_directory('/content/tmp/project_data/training_set',\n",
        "                                                 target_size = (128, 128),\n",
        "                                                 batch_size = 64,\n",
        "                                                 class_mode = 'binary',\n",
        "                                                 subset='validation')\n",
        "\n",
        "\n",
        "\n",
        "test_set = test_datagen.flow_from_directory('/content/tmp/project_data/test_set',\n",
        "                                            target_size = (128, 128),\n",
        "                                            batch_size = 64,\n",
        "                                            class_mode = 'binary')"
      ],
      "execution_count": 7,
      "outputs": [
        {
          "output_type": "stream",
          "text": [
            "Found 17100 images belonging to 2 classes.\n",
            "Found 1899 images belonging to 2 classes.\n",
            "Found 1000 images belonging to 2 classes.\n"
          ],
          "name": "stdout"
        }
      ]
    },
    {
      "cell_type": "markdown",
      "metadata": {
        "id": "O_Ap2CamnaJU",
        "colab_type": "text"
      },
      "source": [
        "#Initializing Layers with Custom Network\n",
        "\n",
        "This model consist of 4 CNN Filters with Relu activaiton function.\n",
        "\n",
        "Than two fully connected layers with 64 and 16 nodes and their activation function is Relu.\n",
        "\n",
        "Output layer is a single fully connected layer with one node and a sigmoid activaiton function.\n",
        "\n",
        "The optimizer algorithm in this model is Adam optimizer."
      ]
    },
    {
      "cell_type": "code",
      "metadata": {
        "id": "-_R8qhnplp4a",
        "colab_type": "code",
        "colab": {}
      },
      "source": [
        "def defaultNet():\n",
        "  model = Sequential()\n",
        "\n",
        "  model.add(Conv2D(32, (3, 3), padding='same', input_shape = (128, 128, 3), activation = 'relu'))\n",
        "\n",
        "  model.add(MaxPooling2D(pool_size = (2, 2)))\n",
        "\n",
        "  model.add(Conv2D(64, (3, 3), padding='same', activation = 'relu'))\n",
        "  model.add(MaxPooling2D(pool_size = (2, 2)))\n",
        "\n",
        "  model.add(Conv2D(64, (3, 3), padding='same', activation = 'relu'))\n",
        "  model.add(MaxPooling2D(pool_size = (2, 2)))\n",
        "\n",
        "  model.add(Conv2D(32, (3, 3), activation = 'relu'))\n",
        "  model.add(MaxPooling2D(pool_size = (2, 2)))\n",
        "\n",
        "  model.add(Flatten())\n",
        "\n",
        "  model.add(Dense(units = 64, activation = 'relu'))\n",
        "  model.add(Dense(units = 16, activation = 'relu'))\n",
        "  model.add(Dense(units = 1, activation = 'sigmoid'))\n",
        "\n",
        "  model.compile(optimizer = 'adam', loss = 'binary_crossentropy', metrics = ['accuracy'])\n",
        "  return model"
      ],
      "execution_count": 8,
      "outputs": []
    },
    {
      "cell_type": "markdown",
      "metadata": {
        "id": "BQh6F8E0e2ZE",
        "colab_type": "text"
      },
      "source": [
        "# AlexNet\n",
        "\n",
        "Implemention of AlexNet in Keras"
      ]
    },
    {
      "cell_type": "code",
      "metadata": {
        "id": "7JFxi10SKen6",
        "colab_type": "code",
        "colab": {}
      },
      "source": [
        "def alexNet():\n",
        "  model = Sequential()\n",
        "\n",
        "  # 1st Convolutional Layer\n",
        "  model.add(Conv2D(filters=96, input_shape=(128,128,3), kernel_size=(11,11),  strides=(1,1), padding='valid'))\n",
        "  model.add(Activation('relu'))\n",
        "  # Pooling \n",
        "  model.add(MaxPooling2D(pool_size=(2,2), strides=(2,2), padding='valid'))\n",
        "  # Batch Normalisation before passing it to the next layer\n",
        "  model.add(BatchNormalization())\n",
        "\n",
        "  # 2nd Convolutional Layer\n",
        "  model.add(Conv2D(filters=256, kernel_size=(11,11), strides=(1,1), padding='valid'))\n",
        "  model.add(Activation('relu'))\n",
        "  # Pooling\n",
        "  model.add(MaxPooling2D(pool_size=(2,2), strides=(2,2), padding='valid'))\n",
        "  # Batch Normalisation\n",
        "  model.add(BatchNormalization())\n",
        "\n",
        "  # 3rd Convolutional Layer\n",
        "  model.add(Conv2D(filters=384, kernel_size=(3,3), strides=(1,1), padding='valid'))\n",
        "  model.add(Activation('relu'))\n",
        "  # Batch Normalisation\n",
        "  model.add(BatchNormalization())\n",
        "\n",
        "  # 4th Convolutional Layer\n",
        "  model.add(Conv2D(filters=384, kernel_size=(3,3), strides=(1,1), padding='valid'))\n",
        "  model.add(Activation('relu'))\n",
        "  # Batch Normalisation\n",
        "  model.add(BatchNormalization())\n",
        "\n",
        "  # 5th Convolutional Layer\n",
        "  model.add(Conv2D(filters=256, kernel_size=(3,3), strides=(1,1), padding='valid'))\n",
        "  model.add(Activation('relu'))\n",
        "  # Pooling\n",
        "  model.add(MaxPooling2D(pool_size=(2,2), strides=(2,2), padding='valid'))\n",
        "  # Batch Normalisation\n",
        "  model.add(BatchNormalization())\n",
        "\n",
        "  # Passing it to a dense layer\n",
        "  model.add(Flatten())\n",
        "  # 1st Dense Layer\n",
        "  model.add(Dense(4096, input_shape=(224*224*3,)))\n",
        "  model.add(Activation('relu'))\n",
        "  # Add Dropout to prevent overfitting\n",
        "  model.add(Dropout(0.4))\n",
        "  # Batch Normalisation\n",
        "  model.add(BatchNormalization())\n",
        "\n",
        "  # 2nd Dense Layer\n",
        "  model.add(Dense(4096))\n",
        "  model.add(Activation('relu'))\n",
        "  # Add Dropout\n",
        "  model.add(Dropout(0.4))\n",
        "  # Batch Normalisation\n",
        "  model.add(BatchNormalization())\n",
        "\n",
        "  # 3rd Dense Layer\n",
        "  model.add(Dense(1000))\n",
        "  model.add(Activation('relu'))\n",
        "  # Add Dropout\n",
        "  model.add(Dropout(0.4))\n",
        "  # Batch Normalisation\n",
        "  model.add(BatchNormalization())\n",
        "\n",
        "  # Output Layer\n",
        "  model.add(Dense(1))\n",
        "  model.add(Activation('sigmoid'))\n",
        "\n",
        "\n",
        "  # (4) Compile \n",
        "  model.compile(loss='binary_crossentropy', optimizer='adam', metrics=['accuracy'])\n",
        "  return model"
      ],
      "execution_count": 9,
      "outputs": []
    },
    {
      "cell_type": "markdown",
      "metadata": {
        "id": "WokoNDDxlcPV",
        "colab_type": "text"
      },
      "source": [
        "# ResNet\n",
        "Implemention of ResNet in Keras\n"
      ]
    },
    {
      "cell_type": "code",
      "metadata": {
        "id": "U2dGhAwvliUe",
        "colab_type": "code",
        "colab": {}
      },
      "source": [
        "def resNet():\n",
        "  model_resnet = ResNet50(include_top=False, weights=\"imagenet\", input_shape=(128, 128, 3))\n",
        "\n",
        "  conv1 = Conv2D(32, (3,3), activation = 'relu')(model_resnet.output)\n",
        "  pool1 = MaxPooling2D(2,2)(conv1)\n",
        "  bn1 = BatchNormalization(axis=3)(pool1)\n",
        "  drop1 = Dropout(0.2)(bn1)\n",
        "  flatten1 = Flatten()(drop1)\n",
        "  fc2 = Dense(1, activation='sigmoid')(flatten1)\n",
        "  model = Model(inputs=model_resnet.input, outputs=fc2)\n",
        "\n",
        "\n",
        "  model.compile(loss='binary_crossentropy', optimizer='adam', metrics=['accuracy'])\n",
        "\n",
        "  return model\n"
      ],
      "execution_count": 10,
      "outputs": []
    },
    {
      "cell_type": "markdown",
      "metadata": {
        "id": "ovX01LWGD0sJ",
        "colab_type": "text"
      },
      "source": [
        "# VGG16\n",
        "Implemention of VGG16 in Keras"
      ]
    },
    {
      "cell_type": "code",
      "metadata": {
        "id": "frHu8fMWD5DZ",
        "colab_type": "code",
        "colab": {}
      },
      "source": [
        "def vgg16():\n",
        "  \n",
        "  conv_base = VGG16(weights='imagenet',\n",
        "                    include_top=False,\n",
        "                    input_shape=(128, 128, 3))\n",
        "\n",
        "  model = Sequential()\n",
        "  model.add(conv_base)\n",
        "  model.add(Flatten())\n",
        "  model.add(Dropout(0.5))\n",
        "  model.add(Dense(256, activation='relu'))\n",
        "  model.add(Dense(1, activation='sigmoid'))\n",
        "\n",
        "  conv_base.trainable = False\n",
        "\n",
        "  model.compile(loss='binary_crossentropy',\n",
        "                optimizer=optimizers.RMSprop(lr=2e-5),\n",
        "                metrics=['accuracy'])\n",
        "  return model"
      ],
      "execution_count": 11,
      "outputs": []
    },
    {
      "cell_type": "markdown",
      "metadata": {
        "id": "tCEiPB2__8tA",
        "colab_type": "text"
      },
      "source": [
        "# Model Selection and Summary\n",
        "Summary of seleted model architecture and number of parameters are shown bellow. Options are:\n",
        "\n",
        "\n",
        "*   Custom network above \n",
        "*   AlexNet\n",
        "*   ResNet\n",
        "*   VGG16\n",
        "\n"
      ]
    },
    {
      "cell_type": "code",
      "metadata": {
        "id": "IlRUrVhcxbCW",
        "colab_type": "code",
        "colab": {
          "base_uri": "https://localhost:8080/",
          "height": 1000
        },
        "outputId": "d51ec81d-99f2-4b7c-9775-7ea95a0019a9"
      },
      "source": [
        "classifier = alexNet()\n",
        "# Alternatives are\n",
        "#\n",
        "# classifier = resNet()\n",
        "# classifier = vgg16()\n",
        "# classifier = defaultNet() \n",
        "\n",
        "classifier.summary()"
      ],
      "execution_count": 12,
      "outputs": [
        {
          "output_type": "stream",
          "text": [
            "Model: \"sequential_1\"\n",
            "_________________________________________________________________\n",
            "Layer (type)                 Output Shape              Param #   \n",
            "=================================================================\n",
            "conv2d_1 (Conv2D)            (None, 118, 118, 96)      34944     \n",
            "_________________________________________________________________\n",
            "activation_1 (Activation)    (None, 118, 118, 96)      0         \n",
            "_________________________________________________________________\n",
            "max_pooling2d_1 (MaxPooling2 (None, 59, 59, 96)        0         \n",
            "_________________________________________________________________\n",
            "batch_normalization_1 (Batch (None, 59, 59, 96)        384       \n",
            "_________________________________________________________________\n",
            "conv2d_2 (Conv2D)            (None, 49, 49, 256)       2973952   \n",
            "_________________________________________________________________\n",
            "activation_2 (Activation)    (None, 49, 49, 256)       0         \n",
            "_________________________________________________________________\n",
            "max_pooling2d_2 (MaxPooling2 (None, 24, 24, 256)       0         \n",
            "_________________________________________________________________\n",
            "batch_normalization_2 (Batch (None, 24, 24, 256)       1024      \n",
            "_________________________________________________________________\n",
            "conv2d_3 (Conv2D)            (None, 22, 22, 384)       885120    \n",
            "_________________________________________________________________\n",
            "activation_3 (Activation)    (None, 22, 22, 384)       0         \n",
            "_________________________________________________________________\n",
            "batch_normalization_3 (Batch (None, 22, 22, 384)       1536      \n",
            "_________________________________________________________________\n",
            "conv2d_4 (Conv2D)            (None, 20, 20, 384)       1327488   \n",
            "_________________________________________________________________\n",
            "activation_4 (Activation)    (None, 20, 20, 384)       0         \n",
            "_________________________________________________________________\n",
            "batch_normalization_4 (Batch (None, 20, 20, 384)       1536      \n",
            "_________________________________________________________________\n",
            "conv2d_5 (Conv2D)            (None, 18, 18, 256)       884992    \n",
            "_________________________________________________________________\n",
            "activation_5 (Activation)    (None, 18, 18, 256)       0         \n",
            "_________________________________________________________________\n",
            "max_pooling2d_3 (MaxPooling2 (None, 9, 9, 256)         0         \n",
            "_________________________________________________________________\n",
            "batch_normalization_5 (Batch (None, 9, 9, 256)         1024      \n",
            "_________________________________________________________________\n",
            "flatten_1 (Flatten)          (None, 20736)             0         \n",
            "_________________________________________________________________\n",
            "dense_1 (Dense)              (None, 4096)              84938752  \n",
            "_________________________________________________________________\n",
            "activation_6 (Activation)    (None, 4096)              0         \n",
            "_________________________________________________________________\n",
            "dropout_1 (Dropout)          (None, 4096)              0         \n",
            "_________________________________________________________________\n",
            "batch_normalization_6 (Batch (None, 4096)              16384     \n",
            "_________________________________________________________________\n",
            "dense_2 (Dense)              (None, 4096)              16781312  \n",
            "_________________________________________________________________\n",
            "activation_7 (Activation)    (None, 4096)              0         \n",
            "_________________________________________________________________\n",
            "dropout_2 (Dropout)          (None, 4096)              0         \n",
            "_________________________________________________________________\n",
            "batch_normalization_7 (Batch (None, 4096)              16384     \n",
            "_________________________________________________________________\n",
            "dense_3 (Dense)              (None, 1000)              4097000   \n",
            "_________________________________________________________________\n",
            "activation_8 (Activation)    (None, 1000)              0         \n",
            "_________________________________________________________________\n",
            "dropout_3 (Dropout)          (None, 1000)              0         \n",
            "_________________________________________________________________\n",
            "batch_normalization_8 (Batch (None, 1000)              4000      \n",
            "_________________________________________________________________\n",
            "dense_4 (Dense)              (None, 1)                 1001      \n",
            "_________________________________________________________________\n",
            "activation_9 (Activation)    (None, 1)                 0         \n",
            "=================================================================\n",
            "Total params: 111,966,833\n",
            "Trainable params: 111,945,697\n",
            "Non-trainable params: 21,136\n",
            "_________________________________________________________________\n"
          ],
          "name": "stdout"
        }
      ]
    },
    {
      "cell_type": "markdown",
      "metadata": {
        "id": "mDahvldiACAs",
        "colab_type": "text"
      },
      "source": [
        "#Execuring the Training and Testing Phase\n",
        "\n",
        "Weights will be saved in Google Drive.\n",
        "\n",
        "Model checkpoint is being set.\n",
        "\n"
      ]
    },
    {
      "cell_type": "code",
      "metadata": {
        "id": "Om0EDxBvnlxQ",
        "colab_type": "code",
        "colab": {
          "base_uri": "https://localhost:8080/",
          "height": 745
        },
        "outputId": "df905f8f-2716-4a25-f8f8-c5949fa7ea56"
      },
      "source": [
        "filepath = \"/content/drive/My Drive/DeepLearning/best_model_alexNet.hdf5\"\n",
        "checkpoint = ModelCheckpoint(filepath, monitor='val_accuracy', verbose=1, save_best_only=True, mode='max')\n",
        "history = classifier.fit_generator(training_set,\n",
        "                         epochs = 10 ,\n",
        "                         validation_data = validation_set,\n",
        "                         callbacks = [checkpoint])\n",
        "print(history.history.keys())"
      ],
      "execution_count": 13,
      "outputs": [
        {
          "output_type": "stream",
          "text": [
            "Epoch 1/10\n",
            "268/268 [==============================] - 136s 506ms/step - loss: 0.6477 - accuracy: 0.7029 - val_loss: 12.7033 - val_accuracy: 0.4997\n",
            "\n",
            "Epoch 00001: val_accuracy improved from -inf to 0.49974, saving model to /content/drive/My Drive/DeepLearning/best_model_alexNet.hdf5\n",
            "Epoch 2/10\n",
            "268/268 [==============================] - 127s 475ms/step - loss: 0.4804 - accuracy: 0.7739 - val_loss: 0.4342 - val_accuracy: 0.6825\n",
            "\n",
            "Epoch 00002: val_accuracy improved from 0.49974 to 0.68246, saving model to /content/drive/My Drive/DeepLearning/best_model_alexNet.hdf5\n",
            "Epoch 3/10\n",
            "268/268 [==============================] - 127s 475ms/step - loss: 0.4184 - accuracy: 0.8092 - val_loss: 2.8069 - val_accuracy: 0.4997\n",
            "\n",
            "Epoch 00003: val_accuracy did not improve from 0.68246\n",
            "Epoch 4/10\n",
            "268/268 [==============================] - 128s 478ms/step - loss: 0.3622 - accuracy: 0.8386 - val_loss: 1.2380 - val_accuracy: 0.6704\n",
            "\n",
            "Epoch 00004: val_accuracy did not improve from 0.68246\n",
            "Epoch 5/10\n",
            "268/268 [==============================] - 128s 477ms/step - loss: 0.3149 - accuracy: 0.8645 - val_loss: 0.5195 - val_accuracy: 0.8015\n",
            "\n",
            "Epoch 00005: val_accuracy improved from 0.68246 to 0.80147, saving model to /content/drive/My Drive/DeepLearning/best_model_alexNet.hdf5\n",
            "Epoch 6/10\n",
            "268/268 [==============================] - 128s 477ms/step - loss: 0.2785 - accuracy: 0.8820 - val_loss: 0.7547 - val_accuracy: 0.6893\n",
            "\n",
            "Epoch 00006: val_accuracy did not improve from 0.80147\n",
            "Epoch 7/10\n",
            "268/268 [==============================] - 128s 478ms/step - loss: 0.2468 - accuracy: 0.8975 - val_loss: 1.3077 - val_accuracy: 0.5450\n",
            "\n",
            "Epoch 00007: val_accuracy did not improve from 0.80147\n",
            "Epoch 8/10\n",
            "268/268 [==============================] - 128s 478ms/step - loss: 0.2298 - accuracy: 0.9066 - val_loss: 0.2401 - val_accuracy: 0.8615\n",
            "\n",
            "Epoch 00008: val_accuracy improved from 0.80147 to 0.86151, saving model to /content/drive/My Drive/DeepLearning/best_model_alexNet.hdf5\n",
            "Epoch 9/10\n",
            "268/268 [==============================] - 128s 477ms/step - loss: 0.1978 - accuracy: 0.9203 - val_loss: 0.3597 - val_accuracy: 0.8726\n",
            "\n",
            "Epoch 00009: val_accuracy improved from 0.86151 to 0.87256, saving model to /content/drive/My Drive/DeepLearning/best_model_alexNet.hdf5\n",
            "Epoch 10/10\n",
            "268/268 [==============================] - 128s 477ms/step - loss: 0.1732 - accuracy: 0.9287 - val_loss: 0.6938 - val_accuracy: 0.7915\n",
            "\n",
            "Epoch 00010: val_accuracy did not improve from 0.87256\n",
            "dict_keys(['val_loss', 'val_accuracy', 'loss', 'accuracy'])\n"
          ],
          "name": "stdout"
        }
      ]
    },
    {
      "cell_type": "markdown",
      "metadata": {
        "id": "B2X8CwITAYtL",
        "colab_type": "text"
      },
      "source": [
        "#Analyzing the Learning\n",
        "\n",
        "The learning process is plotted below."
      ]
    },
    {
      "cell_type": "code",
      "metadata": {
        "id": "gE3t9mP9UxxF",
        "colab_type": "code",
        "colab": {
          "base_uri": "https://localhost:8080/",
          "height": 573
        },
        "outputId": "49941ce2-ec75-4122-8f6f-d525fe760995"
      },
      "source": [
        "plt.plot(history.history['accuracy'])\n",
        "plt.plot(history.history['val_accuracy'])\n",
        "plt.title('Model accuracy')\n",
        "plt.ylabel('Accuracy')\n",
        "plt.xlabel('Epoch')\n",
        "plt.legend(['Train', 'Val'], loc='upper left')\n",
        "plt.show()\n",
        "\n",
        "plt.plot(history.history['loss'])\n",
        "plt.plot(history.history['val_loss'])\n",
        "plt.title('Model loss')\n",
        "plt.ylabel('Loss')\n",
        "plt.xlabel('Epochs')\n",
        "plt.legend(['Train', 'Val'], loc='upper left')\n",
        "plt.show()"
      ],
      "execution_count": 14,
      "outputs": [
        {
          "output_type": "display_data",
          "data": {
            "image/png": "[encoded data removed]",
            "text/plain": [
              "<Figure size 432x288 with 1 Axes>"
            ]
          },
          "metadata": {
            "tags": [],
            "needs_background": "light"
          }
        },
        {
          "output_type": "display_data",
          "data": {
            "image/png": "[encoded data removed]",
            "text/plain": [
              "<Figure size 432x288 with 1 Axes>"
            ]
          },
          "metadata": {
            "tags": [],
            "needs_background": "light"
          }
        }
      ]
    },
    {
      "cell_type": "markdown",
      "metadata": {
        "id": "emg0nwIS6qrE",
        "colab_type": "text"
      },
      "source": [
        "#Evaluating the Model\n",
        "Evaluating the model with test data.\n",
        " \n",
        "Weights are loaded from given path."
      ]
    },
    {
      "cell_type": "code",
      "metadata": {
        "id": "UJjAxhkp64ln",
        "colab_type": "code",
        "colab": {
          "base_uri": "https://localhost:8080/",
          "height": 34
        },
        "outputId": "d4fadc56-bbc9-4418-9ed5-90fb41ab5874"
      },
      "source": [
        "classifier.load_weights(\"/content/drive/My Drive/DeepLearning/best_model_alexNet.hdf5\")\n",
        "evaluation = classifier.evaluate_generator(test_set)\n",
        "print('test loss, test accuracy: ', evaluation)"
      ],
      "execution_count": 15,
      "outputs": [
        {
          "output_type": "stream",
          "text": [
            "test loss, test accuracy:  [0.32608461380004883, 0.8949999809265137]\n"
          ],
          "name": "stdout"
        }
      ]
    },
    {
      "cell_type": "markdown",
      "metadata": {
        "id": "QJZZ2lBap_ob",
        "colab_type": "text"
      },
      "source": [
        "#Testing\n",
        "\n",
        "Manually testing with normal pictures."
      ]
    },
    {
      "cell_type": "code",
      "metadata": {
        "id": "w7l_la2frewe",
        "colab_type": "code",
        "colab": {}
      },
      "source": [
        "classifier.load_weights(\"/content/drive/My Drive/DeepLearning/best_model_alexNet.hdf5\")\n"
      ],
      "execution_count": 16,
      "outputs": []
    },
    {
      "cell_type": "code",
      "metadata": {
        "id": "Abj8hg3r5t9V",
        "colab_type": "code",
        "colab": {
          "base_uri": "https://localhost:8080/",
          "height": 197
        },
        "outputId": "a96630ca-954f-4cc8-b362-228f3d996474"
      },
      "source": [
        "from keras.preprocessing import image\n",
        "\n",
        "path = '/content/sample_data/test_image.jpg'\n",
        "test_image = image.load_img( path, target_size = (128, 128))\n",
        "\n",
        "display(test_image)\n",
        "test_image = image.img_to_array(test_image)/255\n",
        "test_image = np.expand_dims(test_image, axis = 0)\n",
        "result = classifier.predict(test_image)\n",
        "print(training_set.class_indices)\n",
        "print(result)\n",
        "if result[0][0] > 0.5:\n",
        "    prediction = 'real'\n",
        "else:\n",
        "    prediction = 'fake'\n",
        "print(prediction)"
      ],
      "execution_count": 18,
      "outputs": [
        {
          "output_type": "display_data",
          "data": {
            "image/png": "[encoded data removed]",
            "text/plain": [
              "<PIL.Image.Image image mode=RGB size=128x128 at 0x7F2271575F28>"
            ]
          },
          "metadata": {
            "tags": []
          }
        },
        {
          "output_type": "stream",
          "text": [
            "{'fake': 0, 'real': 1}\n",
            "[[0.94902086]]\n",
            "real\n"
          ],
          "name": "stdout"
        }
      ]
    },
    {
      "cell_type": "code",
      "metadata": {
        "id": "p6KGR8byAWVg",
        "colab_type": "code",
        "colab": {}
      },
      "source": [
        ""
      ],
      "execution_count": null,
      "outputs": []
    }
  ]
}