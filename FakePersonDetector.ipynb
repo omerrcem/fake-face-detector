{
  "nbformat": 4,
  "nbformat_minor": 0,
  "metadata": {
    "colab": {
      "name": "FakePersonDetector",
      "provenance": [],
      "collapsed_sections": []
    },
    "kernelspec": {
      "name": "python3",
      "display_name": "Python 3"
    },
    "accelerator": "GPU"
  },
  "cells": [
    {
      "cell_type": "markdown",
      "metadata": {
        "id": "fjrNlHaGkDJy",
        "colab_type": "text"
      },
      "source": [
        "#Fake Person Detector\n",
        "\n",
        "**Summary**\n",
        "\n",
        "In this model it's aimed to create a network that can analyse and determine wheter given input is a real human picture or a computer generated fake human picture.\n",
        "\n",
        "To achieve that a CNN model with various layers is being used.\n",
        "\n",
        "\n",
        "\n",
        "\n",
        "Author:\n",
        "\n",
        "Ömer Cem Turan\n",
        "\n",
        "omercemturan@gmail.com\n",
        "\n",
        "160503133\n"
      ]
    },
    {
      "cell_type": "markdown",
      "metadata": {
        "id": "gHO8UgWokX8X",
        "colab_type": "text"
      },
      "source": [
        "#Importing libraries\n",
        "\n",
        "Keras and Tensorflow is being used in this project.\n",
        "\n",
        "And also GPU acceleration of Google Colab will help to model to process the given data faster."
      ]
    },
    {
      "cell_type": "code",
      "metadata": {
        "id": "LOigmnp6tEOF",
        "colab_type": "code",
        "colab": {
          "base_uri": "https://localhost:8080/",
          "height": 34
        },
        "outputId": "e1a775a6-bc19-44e3-f76a-3edc0f8b73f1"
      },
      "source": [
        "\n",
        "import numpy as np # linear algebra\n",
        "import pandas as pd # data processing, CSV file I/O (e.g. pd.read_csv)\n",
        "\n",
        "from keras.models import Sequential\n",
        "from keras.layers import Dense,Flatten, GlobalAveragePooling2D, BatchNormalization, Activation, Dropout, Conv2D,MaxPooling2D\n",
        "from keras.optimizers import Adam\n",
        "import tensorflow as tf\n",
        "from keras import backend as K\n",
        "from tensorflow.python.client import device_lib\n",
        "from PIL import Image\n",
        "from keras.utils.vis_utils import plot_model\n",
        "from keras.callbacks import ModelCheckpoint\n",
        "import matplotlib.pyplot as plt\n",
        "\n",
        "# Input data files are available in the \"../input/\" directory.\n",
        "# For example, running this (by clicking run or pressing Shift+Enter) will list the files in the input directory\n"
      ],
      "execution_count": 1,
      "outputs": [
        {
          "output_type": "stream",
          "text": [
            "Using TensorFlow backend.\n"
          ],
          "name": "stderr"
        }
      ]
    },
    {
      "cell_type": "code",
      "metadata": {
        "id": "e3ZjUX2CteLh",
        "colab_type": "code",
        "colab": {}
      },
      "source": [
        "import os\n"
      ],
      "execution_count": 2,
      "outputs": []
    },
    {
      "cell_type": "code",
      "metadata": {
        "id": "LDLRM3g9Fg9X",
        "colab_type": "code",
        "colab": {
          "base_uri": "https://localhost:8080/",
          "height": 476
        },
        "outputId": "9e89b83e-f713-4716-9869-aa53b346f7cb"
      },
      "source": [
        "device_lib.list_local_devices()"
      ],
      "execution_count": 3,
      "outputs": [
        {
          "output_type": "execute_result",
          "data": {
            "text/plain": [
              "[name: \"/device:CPU:0\"\n",
              " device_type: \"CPU\"\n",
              " memory_limit: 268435456\n",
              " locality {\n",
              " }\n",
              " incarnation: 15781206625674556553, name: \"/device:XLA_CPU:0\"\n",
              " device_type: \"XLA_CPU\"\n",
              " memory_limit: 17179869184\n",
              " locality {\n",
              " }\n",
              " incarnation: 689493306797810393\n",
              " physical_device_desc: \"device: XLA_CPU device\", name: \"/device:XLA_GPU:0\"\n",
              " device_type: \"XLA_GPU\"\n",
              " memory_limit: 17179869184\n",
              " locality {\n",
              " }\n",
              " incarnation: 11279497585267779517\n",
              " physical_device_desc: \"device: XLA_GPU device\", name: \"/device:GPU:0\"\n",
              " device_type: \"GPU\"\n",
              " memory_limit: 15701463552\n",
              " locality {\n",
              "   bus_id: 1\n",
              "   links {\n",
              "   }\n",
              " }\n",
              " incarnation: 4434238930952366748\n",
              " physical_device_desc: \"device: 0, name: Tesla P100-PCIE-16GB, pci bus id: 0000:00:04.0, compute capability: 6.0\"]"
            ]
          },
          "metadata": {
            "tags": []
          },
          "execution_count": 3
        }
      ]
    },
    {
      "cell_type": "markdown",
      "metadata": {
        "id": "Sgd9VQxjkCOR",
        "colab_type": "text"
      },
      "source": [
        "#Importing Data\n",
        "\n",
        "Check wheter google drive is connected or not. If 'training_set' and \n",
        "'test_set' are shown, data is ready to be processed"
      ]
    },
    {
      "cell_type": "code",
      "metadata": {
        "id": "NabnwSz_Q_iY",
        "colab_type": "code",
        "colab": {}
      },
      "source": [
        "import zipfile\n",
        "from google.colab import drive\n",
        "\n",
        "\n",
        "zip_ref = zipfile.ZipFile(\"/content/drive/My Drive/DeepLearning/data/project_data.zip\", 'r')\n",
        "zip_ref.extractall(\"/content/tmp/\")\n",
        "zip_ref.close()"
      ],
      "execution_count": 7,
      "outputs": []
    },
    {
      "cell_type": "code",
      "metadata": {
        "id": "ncxbEL3gttmd",
        "colab_type": "code",
        "colab": {
          "base_uri": "https://localhost:8080/",
          "height": 34
        },
        "outputId": "afab2861-adfa-4f7e-b684-9313451692c8"
      },
      "source": [
        "print(os.listdir(\"/content/tmp/project_data\"))\n"
      ],
      "execution_count": 4,
      "outputs": [
        {
          "output_type": "stream",
          "text": [
            "['training_set', '.DS_Store', 'test_set']\n"
          ],
          "name": "stdout"
        }
      ]
    },
    {
      "cell_type": "markdown",
      "metadata": {
        "id": "vGdmK7FWk6O1",
        "colab_type": "text"
      },
      "source": [
        "#Preparing Input Data\n",
        "\n",
        "Input data consist of PNG pictures with the resolution of 128x128"
      ]
    },
    {
      "cell_type": "code",
      "metadata": {
        "id": "UOPgWymotvOW",
        "colab_type": "code",
        "colab": {}
      },
      "source": [
        "from keras.preprocessing.image import ImageDataGenerator\n",
        "\n",
        "train_datagen = ImageDataGenerator(rescale=1./255)\n",
        "\n",
        "test_datagen = ImageDataGenerator(rescale = 1./255)"
      ],
      "execution_count": 5,
      "outputs": []
    },
    {
      "cell_type": "markdown",
      "metadata": {
        "id": "h_mkKgZrlDdm",
        "colab_type": "text"
      },
      "source": [
        "#Setting Input Path and Data Properties\n",
        "\n",
        "Resolution is 128x128 for each image\n",
        "\n",
        "Setting batch size to 64\n",
        "\n",
        "This network is going to give output data in binary"
      ]
    },
    {
      "cell_type": "code",
      "metadata": {
        "id": "Jq6iJN9plAPR",
        "colab_type": "code",
        "colab": {
          "base_uri": "https://localhost:8080/",
          "height": 51
        },
        "outputId": "ba3b315a-2c67-4777-e001-388a5175e6f0"
      },
      "source": [
        "training_set = train_datagen.flow_from_directory('/content/tmp/project_data/training_set',\n",
        "                                                 target_size = (128, 128),\n",
        "                                                 batch_size = 64,\n",
        "                                                 class_mode = 'binary')\n",
        "\n",
        "test_set = test_datagen.flow_from_directory('/content/tmp/project_data/test_set',\n",
        "                                            target_size = (128, 128),\n",
        "                                            batch_size = 64,\n",
        "                                            class_mode = 'binary')"
      ],
      "execution_count": 6,
      "outputs": [
        {
          "output_type": "stream",
          "text": [
            "Found 18999 images belonging to 2 classes.\n",
            "Found 1000 images belonging to 2 classes.\n"
          ],
          "name": "stdout"
        }
      ]
    },
    {
      "cell_type": "markdown",
      "metadata": {
        "id": "O_Ap2CamnaJU",
        "colab_type": "text"
      },
      "source": [
        "#Initializing Layers\n",
        "\n",
        "This model consist of 4 CNN Filters with Relu activaiton function.\n",
        "\n",
        "Than two fully connected layers with 64 and 16 nodes and their activation function is Relu.\n",
        "\n",
        "Output layer is a fullu connected layer with one node and a sigmoid activaiton function.\n",
        "\n",
        "The optimizer algorithm in this model is Adam optimizer."
      ]
    },
    {
      "cell_type": "code",
      "metadata": {
        "id": "-_R8qhnplp4a",
        "colab_type": "code",
        "colab": {}
      },
      "source": [
        "classifier = Sequential()\n",
        "\n",
        "classifier.add(Conv2D(32, (3, 3), padding='same', input_shape = (128, 128, 3), activation = 'relu'))\n",
        "\n",
        "classifier.add(MaxPooling2D(pool_size = (2, 2)))\n",
        "\n",
        "classifier.add(Conv2D(64, (3, 3), padding='same', activation = 'relu'))\n",
        "classifier.add(MaxPooling2D(pool_size = (2, 2)))\n",
        "\n",
        "classifier.add(Conv2D(64, (3, 3), padding='same', activation = 'relu'))\n",
        "classifier.add(MaxPooling2D(pool_size = (2, 2)))\n",
        "\n",
        "classifier.add(Conv2D(32, (3, 3), activation = 'relu'))\n",
        "classifier.add(MaxPooling2D(pool_size = (2, 2)))\n",
        "\n",
        "classifier.add(Flatten())\n",
        "\n",
        "classifier.add(Dense(units = 64, activation = 'relu'))\n",
        "classifier.add(Dense(units = 16, activation = 'relu'))\n",
        "classifier.add(Dense(units = 1, activation = 'sigmoid'))\n",
        "\n",
        "classifier.compile(optimizer = 'adam', loss = 'binary_crossentropy', metrics = ['accuracy'])"
      ],
      "execution_count": 8,
      "outputs": []
    },
    {
      "cell_type": "markdown",
      "metadata": {
        "id": "tCEiPB2__8tA",
        "colab_type": "text"
      },
      "source": [
        "#Summary of Layers\n",
        "Summary of created model architecture and number of parameters are shown bellow."
      ]
    },
    {
      "cell_type": "code",
      "metadata": {
        "id": "IlRUrVhcxbCW",
        "colab_type": "code",
        "colab": {
          "base_uri": "https://localhost:8080/",
          "height": 561
        },
        "outputId": "772b94a4-f1e4-459b-ce01-8133d530fb32"
      },
      "source": [
        "classifier.summary()"
      ],
      "execution_count": 8,
      "outputs": [
        {
          "output_type": "stream",
          "text": [
            "Model: \"sequential_1\"\n",
            "_________________________________________________________________\n",
            "Layer (type)                 Output Shape              Param #   \n",
            "=================================================================\n",
            "conv2d_1 (Conv2D)            (None, 128, 128, 32)      896       \n",
            "_________________________________________________________________\n",
            "max_pooling2d_1 (MaxPooling2 (None, 64, 64, 32)        0         \n",
            "_________________________________________________________________\n",
            "conv2d_2 (Conv2D)            (None, 64, 64, 64)        18496     \n",
            "_________________________________________________________________\n",
            "max_pooling2d_2 (MaxPooling2 (None, 32, 32, 64)        0         \n",
            "_________________________________________________________________\n",
            "conv2d_3 (Conv2D)            (None, 32, 32, 64)        36928     \n",
            "_________________________________________________________________\n",
            "max_pooling2d_3 (MaxPooling2 (None, 16, 16, 64)        0         \n",
            "_________________________________________________________________\n",
            "conv2d_4 (Conv2D)            (None, 14, 14, 32)        18464     \n",
            "_________________________________________________________________\n",
            "max_pooling2d_4 (MaxPooling2 (None, 7, 7, 32)          0         \n",
            "_________________________________________________________________\n",
            "flatten_1 (Flatten)          (None, 1568)              0         \n",
            "_________________________________________________________________\n",
            "dense_1 (Dense)              (None, 64)                100416    \n",
            "_________________________________________________________________\n",
            "dense_2 (Dense)              (None, 16)                1040      \n",
            "_________________________________________________________________\n",
            "dense_3 (Dense)              (None, 1)                 17        \n",
            "=================================================================\n",
            "Total params: 176,257\n",
            "Trainable params: 176,257\n",
            "Non-trainable params: 0\n",
            "_________________________________________________________________\n"
          ],
          "name": "stdout"
        }
      ]
    },
    {
      "cell_type": "markdown",
      "metadata": {
        "id": "mDahvldiACAs",
        "colab_type": "text"
      },
      "source": [
        "#Execuring the Training and Testing Phase\n",
        "\n",
        "Weights will be saved in Google Drive.\n",
        "\n",
        "Model checkpoint is being set.\n",
        "\n",
        "Current settings for epoch is 15."
      ]
    },
    {
      "cell_type": "code",
      "metadata": {
        "id": "Om0EDxBvnlxQ",
        "colab_type": "code",
        "colab": {
          "base_uri": "https://localhost:8080/",
          "height": 1000
        },
        "outputId": "53be5be7-1c32-4112-a480-390222cb4c64"
      },
      "source": [
        "filepath = \"/content/drive/My Drive/DeepLearning/best_model_v8.hdf5\"\n",
        "checkpoint = ModelCheckpoint(filepath, monitor='val_accuracy', verbose=1, save_best_only=True, mode='max')\n",
        "history = classifier.fit_generator(training_set,\n",
        "                         epochs = 15 ,\n",
        "                         validation_data = test_set,\n",
        "                         callbacks = [checkpoint])\n",
        "print(history.history.keys())"
      ],
      "execution_count": 22,
      "outputs": [
        {
          "output_type": "stream",
          "text": [
            "Epoch 1/15\n",
            "297/297 [==============================] - 97s 327ms/step - loss: 0.6091 - accuracy: 0.6653 - val_loss: 0.8047 - val_accuracy: 0.7620\n",
            "\n",
            "Epoch 00001: val_accuracy improved from -inf to 0.76200, saving model to /content/drive/My Drive/DeepLearning/best_model_v8.hdf5\n",
            "Epoch 2/15\n",
            "297/297 [==============================] - 95s 321ms/step - loss: 0.5515 - accuracy: 0.7235 - val_loss: 0.4700 - val_accuracy: 0.8150\n",
            "\n",
            "Epoch 00002: val_accuracy improved from 0.76200 to 0.81500, saving model to /content/drive/My Drive/DeepLearning/best_model_v8.hdf5\n",
            "Epoch 3/15\n",
            "297/297 [==============================] - 95s 320ms/step - loss: 0.5110 - accuracy: 0.7499 - val_loss: 0.6378 - val_accuracy: 0.8150\n",
            "\n",
            "Epoch 00003: val_accuracy did not improve from 0.81500\n",
            "Epoch 4/15\n",
            "297/297 [==============================] - 94s 316ms/step - loss: 0.4887 - accuracy: 0.7674 - val_loss: 0.3906 - val_accuracy: 0.8120\n",
            "\n",
            "Epoch 00004: val_accuracy did not improve from 0.81500\n",
            "Epoch 5/15\n",
            "297/297 [==============================] - 93s 313ms/step - loss: 0.4779 - accuracy: 0.7728 - val_loss: 0.4696 - val_accuracy: 0.8110\n",
            "\n",
            "Epoch 00005: val_accuracy did not improve from 0.81500\n",
            "Epoch 6/15\n",
            "297/297 [==============================] - 92s 310ms/step - loss: 0.4499 - accuracy: 0.7904 - val_loss: 0.3371 - val_accuracy: 0.8160\n",
            "\n",
            "Epoch 00006: val_accuracy improved from 0.81500 to 0.81600, saving model to /content/drive/My Drive/DeepLearning/best_model_v8.hdf5\n",
            "Epoch 7/15\n",
            "297/297 [==============================] - 92s 311ms/step - loss: 0.4323 - accuracy: 0.7968 - val_loss: 0.7611 - val_accuracy: 0.6730\n",
            "\n",
            "Epoch 00007: val_accuracy did not improve from 0.81600\n",
            "Epoch 8/15\n",
            "297/297 [==============================] - 92s 311ms/step - loss: 0.4280 - accuracy: 0.8037 - val_loss: 0.7104 - val_accuracy: 0.7740\n",
            "\n",
            "Epoch 00008: val_accuracy did not improve from 0.81600\n",
            "Epoch 9/15\n",
            "297/297 [==============================] - 92s 311ms/step - loss: 0.4061 - accuracy: 0.8188 - val_loss: 0.9603 - val_accuracy: 0.7750\n",
            "\n",
            "Epoch 00009: val_accuracy did not improve from 0.81600\n",
            "Epoch 10/15\n",
            "297/297 [==============================] - 92s 311ms/step - loss: 0.3942 - accuracy: 0.8207 - val_loss: 0.6718 - val_accuracy: 0.7580\n",
            "\n",
            "Epoch 00010: val_accuracy did not improve from 0.81600\n",
            "Epoch 11/15\n",
            "297/297 [==============================] - 92s 311ms/step - loss: 0.3781 - accuracy: 0.8324 - val_loss: 0.3325 - val_accuracy: 0.8300\n",
            "\n",
            "Epoch 00011: val_accuracy improved from 0.81600 to 0.83000, saving model to /content/drive/My Drive/DeepLearning/best_model_v8.hdf5\n",
            "Epoch 12/15\n",
            "297/297 [==============================] - 93s 312ms/step - loss: 0.3631 - accuracy: 0.8395 - val_loss: 0.3712 - val_accuracy: 0.8300\n",
            "\n",
            "Epoch 00012: val_accuracy did not improve from 0.83000\n",
            "Epoch 13/15\n",
            "297/297 [==============================] - 92s 310ms/step - loss: 0.3615 - accuracy: 0.8420 - val_loss: 0.2738 - val_accuracy: 0.8040\n",
            "\n",
            "Epoch 00013: val_accuracy did not improve from 0.83000\n",
            "Epoch 14/15\n",
            "297/297 [==============================] - 92s 310ms/step - loss: 0.3450 - accuracy: 0.8486 - val_loss: 0.9218 - val_accuracy: 0.7090\n",
            "\n",
            "Epoch 00014: val_accuracy did not improve from 0.83000\n",
            "Epoch 15/15\n",
            "297/297 [==============================] - 92s 311ms/step - loss: 0.3304 - accuracy: 0.8568 - val_loss: 0.6791 - val_accuracy: 0.8410\n",
            "\n",
            "Epoch 00015: val_accuracy improved from 0.83000 to 0.84100, saving model to /content/drive/My Drive/DeepLearning/best_model_v8.hdf5\n",
            "dict_keys(['val_loss', 'val_accuracy', 'loss', 'accuracy'])\n"
          ],
          "name": "stdout"
        }
      ]
    },
    {
      "cell_type": "markdown",
      "metadata": {
        "id": "B2X8CwITAYtL",
        "colab_type": "text"
      },
      "source": [
        "#Analyzing the Learning\n",
        "\n",
        "The learning process is plotted below."
      ]
    },
    {
      "cell_type": "code",
      "metadata": {
        "id": "gE3t9mP9UxxF",
        "colab_type": "code",
        "colab": {
          "base_uri": "https://localhost:8080/",
          "height": 573
        },
        "outputId": "fe28fdb8-c054-422e-bd77-42ff3436163b"
      },
      "source": [
        "plt.plot(history.history['accuracy'])\n",
        "plt.plot(history.history['val_accuracy'])\n",
        "plt.title('Model accuracy')\n",
        "plt.ylabel('Accuracy')\n",
        "plt.xlabel('Epoch')\n",
        "plt.legend(['Train', 'Test'], loc='upper left')\n",
        "plt.show()\n",
        "\n",
        "plt.plot(history.history['loss'])\n",
        "plt.plot(history.history['val_loss'])\n",
        "plt.title('Model loss')\n",
        "plt.ylabel('Loss')\n",
        "plt.xlabel('Epochs')\n",
        "plt.legend(['Train', 'Test'], loc='upper left')\n",
        "plt.show()"
      ],
      "execution_count": 10,
      "outputs": [
        {
          "output_type": "display_data",
          "data": {
            "image/png": "[encoded data removed]",
            "text/plain": [
              "<Figure size 432x288 with 1 Axes>"
            ]
          },
          "metadata": {
            "tags": [],
            "needs_background": "light"
          }
        },
        {
          "output_type": "display_data",
          "data": {
            "image/png": "[encoded data removed]",
            "text/plain": [
              "<Figure size 432x288 with 1 Axes>"
            ]
          },
          "metadata": {
            "tags": [],
            "needs_background": "light"
          }
        }
      ]
    },
    {
      "cell_type": "markdown",
      "metadata": {
        "id": "emg0nwIS6qrE",
        "colab_type": "text"
      },
      "source": [
        "#Evaluating the Model\n",
        "Evaluating the model with test data. "
      ]
    },
    {
      "cell_type": "code",
      "metadata": {
        "id": "UJjAxhkp64ln",
        "colab_type": "code",
        "colab": {
          "base_uri": "https://localhost:8080/",
          "height": 34
        },
        "outputId": "d2853e0f-2f03-4c1a-98ce-ca58f5d33a87"
      },
      "source": [
        "classifier.load_weights(\"/content/drive/My Drive/DeepLearning/best_model_v4.hdf5\")\n",
        "evaluation = classifier.evaluate_generator(test_set)\n",
        "print('test loss, test accuracy: ', evaluation)"
      ],
      "execution_count": 15,
      "outputs": [
        {
          "output_type": "stream",
          "text": [
            "test loss, test accuracy:  [0.10667043924331665, 0.9660000205039978]\n"
          ],
          "name": "stdout"
        }
      ]
    },
    {
      "cell_type": "markdown",
      "metadata": {
        "id": "QJZZ2lBap_ob",
        "colab_type": "text"
      },
      "source": [
        "#Testing\n",
        "\n",
        "Manually testing with normal pictures."
      ]
    },
    {
      "cell_type": "code",
      "metadata": {
        "id": "w7l_la2frewe",
        "colab_type": "code",
        "colab": {}
      },
      "source": [
        "classifier.load_weights(\"/content/drive/My Drive/DeepLearning/best_model_v4.hdf5\")\n"
      ],
      "execution_count": 9,
      "outputs": []
    },
    {
      "cell_type": "code",
      "metadata": {
        "id": "Abj8hg3r5t9V",
        "colab_type": "code",
        "colab": {
          "base_uri": "https://localhost:8080/",
          "height": 196
        },
        "outputId": "59424164-cd15-4380-b6cc-9d5742d90b4d"
      },
      "source": [
        "from keras.preprocessing import image\n",
        "test_image = image.load_img('/content/drive/My Drive/DeepLearning/data/unzipped/project_data/test_set/fake/00075.png', target_size = (128, 128))\n",
        "display(test_image)\n",
        "test_image = image.img_to_array(test_image)/255\n",
        "test_image = np.expand_dims(test_image, axis = 0)\n",
        "result = classifier.predict(test_image)\n",
        "print(training_set.class_indices)\n",
        "print(result)\n",
        "if result[0][0] > 0.5:\n",
        "    prediction = 'real'\n",
        "else:\n",
        "    prediction = 'fake'\n",
        "print(prediction)"
      ],
      "execution_count": 10,
      "outputs": [
        {
          "output_type": "display_data",
          "data": {
            "image/png": "[encoded data removed]",
            "text/plain": [
              "<PIL.PngImagePlugin.PngImageFile image mode=RGB size=128x128 at 0x7EFC70DF2FD0>"
            ]
          },
          "metadata": {
            "tags": []
          }
        },
        {
          "output_type": "stream",
          "text": [
            "{'fake': 0, 'real': 1}\n",
            "[[0.00096008]]\n",
            "fake\n"
          ],
          "name": "stdout"
        }
      ]
    },
    {
      "cell_type": "code",
      "metadata": {
        "id": "yhh9n7aajfJe",
        "colab_type": "code",
        "colab": {}
      },
      "source": [
        ""
      ],
      "execution_count": null,
      "outputs": []
    }
  ]
}